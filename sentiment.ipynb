{
 "cells": [
  {
   "cell_type": "code",
   "execution_count": 12,
   "metadata": {},
   "outputs": [
    {
     "name": "stdout",
     "output_type": "stream",
     "text": [
      "Epoch 1/5\n",
      "391/391 [==============================] - 269s 682ms/step - loss: 0.4017 - accuracy: 0.8074 - val_loss: 0.3091 - val_accuracy: 0.8696\n",
      "Epoch 2/5\n",
      "391/391 [==============================] - 258s 660ms/step - loss: 0.2371 - accuracy: 0.9108 - val_loss: 0.3503 - val_accuracy: 0.8469\n",
      "Epoch 3/5\n",
      "391/391 [==============================] - 281s 719ms/step - loss: 0.1779 - accuracy: 0.9328 - val_loss: 0.3476 - val_accuracy: 0.8660\n",
      "Epoch 4/5\n",
      "391/391 [==============================] - 297s 759ms/step - loss: 0.1213 - accuracy: 0.9592 - val_loss: 0.3924 - val_accuracy: 0.8627\n",
      "Epoch 5/5\n",
      "391/391 [==============================] - 282s 721ms/step - loss: 0.0936 - accuracy: 0.9695 - val_loss: 0.4340 - val_accuracy: 0.8514\n",
      "391/391 [==============================] - 62s 159ms/step - loss: 0.4340 - accuracy: 0.8514\n",
      "Loss: 0.4340, Accuracy: 85.14%\n"
     ]
    }
   ],
   "source": [
    "import numpy as np\n",
    "import tensorflow as tf\n",
    "from tensorflow.keras.datasets import imdb\n",
    "from tensorflow.keras.preprocessing.sequence import pad_sequences\n",
    "from tensorflow.keras.layers import Embedding, Bidirectional, LSTM, Dense, Dropout\n",
    "from tensorflow.keras.models import Sequential\n",
    "\n",
    "# Load the IMDb movie reviews dataset\n",
    "num_words = 10000  # Vocabulary size\n",
    "max_sequence_length = 250  # Maximum sequence length\n",
    "(x_train, y_train), (x_test, y_test) = imdb.load_data(num_words=num_words)\n",
    "\n",
    "# Preprocessing\n",
    "x_train = pad_sequences(x_train, maxlen=max_sequence_length, padding='pre', truncating='pre')\n",
    "x_test = pad_sequences(x_test, maxlen=max_sequence_length, padding='pre', truncating='pre')\n",
    "\n",
    "# Define the BiLSTM model with Dropout\n",
    "model = Sequential([\n",
    "    Embedding(input_dim=num_words, output_dim=128, input_length=max_sequence_length),\n",
    "    Bidirectional(LSTM(64, return_sequences=True)),\n",
    "    Dropout(0.5),\n",
    "    Bidirectional(LSTM(64)),\n",
    "    Dropout(0.5),\n",
    "    Dense(1, activation='sigmoid')\n",
    "])\n",
    "\n",
    "# Compile the model\n",
    "model.compile(optimizer='adam', loss='binary_crossentropy', metrics=['accuracy'])\n",
    "\n",
    "# Train the model\n",
    "model.fit(x_train, y_train, epochs=5, batch_size=64, validation_data=(x_test, y_test))\n",
    "\n",
    "# Evaluate the model\n",
    "loss, accuracy = model.evaluate(x_test, y_test, batch_size=64)\n",
    "print(f\"Loss: {loss:.4f}, Accuracy: {accuracy:.2%}\")\n"
   ]
  },
  {
   "cell_type": "code",
   "execution_count": null,
   "metadata": {},
   "outputs": [],
   "source": []
  },
  {
   "cell_type": "code",
   "execution_count": null,
   "metadata": {},
   "outputs": [],
   "source": [
    "\n"
   ]
  }
 ],
 "metadata": {
  "kernelspec": {
   "display_name": "tf",
   "language": "python",
   "name": "python3"
  },
  "language_info": {
   "codemirror_mode": {
    "name": "ipython",
    "version": 3
   },
   "file_extension": ".py",
   "mimetype": "text/x-python",
   "name": "python",
   "nbconvert_exporter": "python",
   "pygments_lexer": "ipython3",
   "version": "3.8.15"
  },
  "orig_nbformat": 4
 },
 "nbformat": 4,
 "nbformat_minor": 2
}
